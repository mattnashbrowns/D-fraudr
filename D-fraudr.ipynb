{
 "cells": [
  {
   "cell_type": "code",
   "execution_count": 1,
   "id": "6370fb60",
   "metadata": {},
   "outputs": [],
   "source": [
    "import benford\n",
    "import numpy as np\n",
    "import pandas as pd\n",
    "import os"
   ]
  },
  {
   "cell_type": "code",
   "execution_count": 2,
   "id": "2b8f3f33",
   "metadata": {},
   "outputs": [
    {
     "name": "stdout",
     "output_type": "stream",
     "text": [
      "/home/matt/l7/D-fraudr\n"
     ]
    }
   ],
   "source": [
    "os.system('pwd')\n",
    "datafile = 'tests/census_2009b.csv'\n",
    "census_df = pd.read_csv(datafile, sep = '\\t')"
   ]
  },
  {
   "cell_type": "code",
   "execution_count": 3,
   "id": "29b69f30",
   "metadata": {},
   "outputs": [
    {
     "data": {
      "text/html": [
       "<div>\n",
       "<style scoped>\n",
       "    .dataframe tbody tr th:only-of-type {\n",
       "        vertical-align: middle;\n",
       "    }\n",
       "\n",
       "    .dataframe tbody tr th {\n",
       "        vertical-align: top;\n",
       "    }\n",
       "\n",
       "    .dataframe thead th {\n",
       "        text-align: right;\n",
       "    }\n",
       "</style>\n",
       "<table border=\"1\" class=\"dataframe\">\n",
       "  <thead>\n",
       "    <tr style=\"text-align: right;\">\n",
       "      <th></th>\n",
       "      <th>State</th>\n",
       "      <th>Town</th>\n",
       "      <th>7_2009</th>\n",
       "      <th>3</th>\n",
       "      <th>4</th>\n",
       "      <th>8.40188</th>\n",
       "    </tr>\n",
       "  </thead>\n",
       "  <tbody>\n",
       "    <tr>\n",
       "      <th>0</th>\n",
       "      <td>Alabama</td>\n",
       "      <td>Abbeville</td>\n",
       "      <td>2930</td>\n",
       "      <td>3.0</td>\n",
       "      <td>10.0</td>\n",
       "      <td>3.94383</td>\n",
       "    </tr>\n",
       "    <tr>\n",
       "      <th>1</th>\n",
       "      <td>Alabama</td>\n",
       "      <td>Adamsville</td>\n",
       "      <td>4782</td>\n",
       "      <td>3.0</td>\n",
       "      <td>11.0</td>\n",
       "      <td>7.83099</td>\n",
       "    </tr>\n",
       "    <tr>\n",
       "      <th>2</th>\n",
       "      <td>Alabama</td>\n",
       "      <td>Addison</td>\n",
       "      <td>709</td>\n",
       "      <td>3.0</td>\n",
       "      <td>8.0</td>\n",
       "      <td>7.98440</td>\n",
       "    </tr>\n",
       "    <tr>\n",
       "      <th>3</th>\n",
       "      <td>Alabama</td>\n",
       "      <td>Akron</td>\n",
       "      <td>433</td>\n",
       "      <td>3.0</td>\n",
       "      <td>6.0</td>\n",
       "      <td>9.11647</td>\n",
       "    </tr>\n",
       "    <tr>\n",
       "      <th>4</th>\n",
       "      <td>Alabama</td>\n",
       "      <td>Alabaster</td>\n",
       "      <td>29861</td>\n",
       "      <td>3.0</td>\n",
       "      <td>10.0</td>\n",
       "      <td>1.97551</td>\n",
       "    </tr>\n",
       "    <tr>\n",
       "      <th>...</th>\n",
       "      <td>...</td>\n",
       "      <td>...</td>\n",
       "      <td>...</td>\n",
       "      <td>...</td>\n",
       "      <td>...</td>\n",
       "      <td>...</td>\n",
       "    </tr>\n",
       "    <tr>\n",
       "      <th>19504</th>\n",
       "      <td>Wyoming</td>\n",
       "      <td>Wamsutter</td>\n",
       "      <td>310</td>\n",
       "      <td>3.0</td>\n",
       "      <td>10.0</td>\n",
       "      <td>1.75974</td>\n",
       "    </tr>\n",
       "    <tr>\n",
       "      <th>19505</th>\n",
       "      <td>Wyoming</td>\n",
       "      <td>Wheatland</td>\n",
       "      <td>3236</td>\n",
       "      <td>3.0</td>\n",
       "      <td>10.0</td>\n",
       "      <td>1.35188</td>\n",
       "    </tr>\n",
       "    <tr>\n",
       "      <th>19506</th>\n",
       "      <td>Wyoming</td>\n",
       "      <td>Worland</td>\n",
       "      <td>5054</td>\n",
       "      <td>3.0</td>\n",
       "      <td>8.0</td>\n",
       "      <td>1.03296</td>\n",
       "    </tr>\n",
       "    <tr>\n",
       "      <th>19507</th>\n",
       "      <td>Wyoming</td>\n",
       "      <td>Wright</td>\n",
       "      <td>1550</td>\n",
       "      <td>3.0</td>\n",
       "      <td>7.0</td>\n",
       "      <td>9.55124</td>\n",
       "    </tr>\n",
       "    <tr>\n",
       "      <th>19508</th>\n",
       "      <td>Wyoming</td>\n",
       "      <td>Yoder</td>\n",
       "      <td>164</td>\n",
       "      <td>3.0</td>\n",
       "      <td>6.0</td>\n",
       "      <td>8.66964</td>\n",
       "    </tr>\n",
       "  </tbody>\n",
       "</table>\n",
       "<p>19509 rows × 6 columns</p>\n",
       "</div>"
      ],
      "text/plain": [
       "         State         Town  7_2009    3     4  8.40188\n",
       "0      Alabama   Abbeville     2930  3.0  10.0  3.94383\n",
       "1      Alabama  Adamsville     4782  3.0  11.0  7.83099\n",
       "2      Alabama     Addison      709  3.0   8.0  7.98440\n",
       "3      Alabama       Akron      433  3.0   6.0  9.11647\n",
       "4      Alabama   Alabaster    29861  3.0  10.0  1.97551\n",
       "...        ...          ...     ...  ...   ...      ...\n",
       "19504  Wyoming   Wamsutter      310  3.0  10.0  1.75974\n",
       "19505  Wyoming   Wheatland     3236  3.0  10.0  1.35188\n",
       "19506  Wyoming     Worland     5054  3.0   8.0  1.03296\n",
       "19507  Wyoming      Wright     1550  3.0   7.0  9.55124\n",
       "19508  Wyoming       Yoder      164  3.0   6.0  8.66964\n",
       "\n",
       "[19509 rows x 6 columns]"
      ]
     },
     "execution_count": 3,
     "metadata": {},
     "output_type": "execute_result"
    }
   ],
   "source": [
    "census_df\n"
   ]
  },
  {
   "cell_type": "code",
   "execution_count": 4,
   "id": "f1080d37",
   "metadata": {},
   "outputs": [
    {
     "data": {
      "text/plain": [
       "0         2930\n",
       "1         4782\n",
       "2          709\n",
       "3          433\n",
       "4        29861\n",
       "         ...  \n",
       "19504      310\n",
       "19505     3236\n",
       "19506     5054\n",
       "19507     1550\n",
       "19508      164\n",
       "Name: 7_2009, Length: 19507, dtype: int64"
      ]
     },
     "execution_count": 4,
     "metadata": {},
     "output_type": "execute_result"
    }
   ],
   "source": [
    "pop_data = census_df['7_2009'][census_df['7_2009'] > 0]\n",
    "pop_data"
   ]
  },
  {
   "cell_type": "code",
   "execution_count": 5,
   "id": "440919de",
   "metadata": {},
   "outputs": [
    {
     "data": {
      "text/plain": [
       "True"
      ]
     },
     "execution_count": 5,
     "metadata": {},
     "output_type": "execute_result"
    }
   ],
   "source": [
    "#str(pop_data.dtype) == 'int64'\n",
    "'int' in str(pop_data.dtype)"
   ]
  },
  {
   "cell_type": "code",
   "execution_count": 6,
   "id": "da47cc71",
   "metadata": {},
   "outputs": [
    {
     "data": {
      "text/plain": [
       "pandas.core.series.Series"
      ]
     },
     "execution_count": 6,
     "metadata": {},
     "output_type": "execute_result"
    }
   ],
   "source": [
    "type(pop_data)"
   ]
  },
  {
   "cell_type": "code",
   "execution_count": 7,
   "id": "b60e27ea",
   "metadata": {},
   "outputs": [],
   "source": [
    "import hashlib"
   ]
  },
  {
   "cell_type": "code",
   "execution_count": 8,
   "id": "b565b739",
   "metadata": {},
   "outputs": [],
   "source": [
    "import psycopg2\n",
    "import psycopg2.extras\n",
    "def get_db():\n",
    "    conn = psycopg2.connect(\n",
    "        host = \"localhost\",\n",
    "        database = \"dfraudr\",\n",
    "        user = \"dfraud_user\",\n",
    "        password = \"dfraud_pass\")\n",
    "    conn.set_session(autocommit=True)\n",
    "    cur = conn.cursor(cursor_factory = psycopg2.extras.DictCursor)\n",
    "\n",
    "    return cur"
   ]
  },
  {
   "cell_type": "code",
   "execution_count": 9,
   "id": "45c10f2e",
   "metadata": {},
   "outputs": [],
   "source": [
    "cur = get_db()"
   ]
  },
  {
   "cell_type": "code",
   "execution_count": 10,
   "id": "9593a98d",
   "metadata": {},
   "outputs": [
    {
     "data": {
      "text/plain": [
       "[[1, 'census_2009b.csv', 'Untitled', None]]"
      ]
     },
     "execution_count": 10,
     "metadata": {},
     "output_type": "execute_result"
    }
   ],
   "source": [
    "cur.execute('SELECT id, filename, description, md5sum FROM df_datafiles')\n",
    "files = cur.fetchall()\n",
    "files"
   ]
  },
  {
   "cell_type": "code",
   "execution_count": 11,
   "id": "b19c25ac",
   "metadata": {},
   "outputs": [
    {
     "name": "stdout",
     "output_type": "stream",
     "text": [
      "<class 'list'>\n",
      "<class 'psycopg2.extras.DictRow'>\n"
     ]
    },
    {
     "data": {
      "text/plain": [
       "1"
      ]
     },
     "execution_count": 11,
     "metadata": {},
     "output_type": "execute_result"
    }
   ],
   "source": [
    "print(type(files))\n",
    "print(type(files[0]))\n",
    "files[0]['id']"
   ]
  },
  {
   "cell_type": "code",
   "execution_count": 12,
   "id": "95632451",
   "metadata": {},
   "outputs": [
    {
     "data": {
      "text/plain": [
       "False"
      ]
     },
     "execution_count": 12,
     "metadata": {},
     "output_type": "execute_result"
    }
   ],
   "source": [
    "(type(files) == 'NoneType')"
   ]
  },
  {
   "cell_type": "code",
   "execution_count": 13,
   "id": "9b94721e",
   "metadata": {},
   "outputs": [
    {
     "data": {
      "text/plain": [
       "False"
      ]
     },
     "execution_count": 13,
     "metadata": {},
     "output_type": "execute_result"
    }
   ],
   "source": [
    "not files"
   ]
  },
  {
   "cell_type": "code",
   "execution_count": 14,
   "id": "36844ebf",
   "metadata": {},
   "outputs": [
    {
     "data": {
      "text/plain": [
       "<cursor object at 0x7f7e4eb93440; closed: 0>"
      ]
     },
     "execution_count": 14,
     "metadata": {},
     "output_type": "execute_result"
    }
   ],
   "source": [
    "cur"
   ]
  },
  {
   "cell_type": "code",
   "execution_count": 15,
   "id": "aa8ef361",
   "metadata": {},
   "outputs": [
    {
     "data": {
      "text/plain": [
       "<PandasArray>\n",
       "['State', 'Town', '7_2009', '3', '4', '8.40188']\n",
       "Length: 6, dtype: object"
      ]
     },
     "execution_count": 15,
     "metadata": {},
     "output_type": "execute_result"
    }
   ],
   "source": [
    "cols = census_df.columns.array\n",
    "cols"
   ]
  },
  {
   "cell_type": "code",
   "execution_count": 16,
   "id": "cf52a602",
   "metadata": {},
   "outputs": [
    {
     "data": {
      "text/plain": [
       "'float64'"
      ]
     },
     "execution_count": 16,
     "metadata": {},
     "output_type": "execute_result"
    }
   ],
   "source": [
    "str((census_df[cols[5]]).dtype)"
   ]
  },
  {
   "cell_type": "code",
   "execution_count": 17,
   "id": "7270d848",
   "metadata": {},
   "outputs": [
    {
     "data": {
      "text/plain": [
       "0        3.94383\n",
       "1        7.83099\n",
       "2        7.98440\n",
       "3        9.11647\n",
       "4        1.97551\n",
       "          ...   \n",
       "19504    1.75974\n",
       "19505    1.35188\n",
       "19506    1.03296\n",
       "19507    9.55124\n",
       "19508    8.66964\n",
       "Name: 8.40188, Length: 19509, dtype: float64"
      ]
     },
     "execution_count": 17,
     "metadata": {},
     "output_type": "execute_result"
    }
   ],
   "source": [
    "floater = census_df['8.40188']\n",
    "floater"
   ]
  },
  {
   "cell_type": "code",
   "execution_count": 18,
   "id": "b2877fe1",
   "metadata": {},
   "outputs": [
    {
     "data": {
      "text/plain": [
       "0.000468777"
      ]
     },
     "execution_count": 18,
     "metadata": {},
     "output_type": "execute_result"
    }
   ],
   "source": [
    "floater.min()"
   ]
  },
  {
   "cell_type": "code",
   "execution_count": 19,
   "id": "ad5a4cc5",
   "metadata": {},
   "outputs": [
    {
     "data": {
      "text/plain": [
       "9.99994"
      ]
     },
     "execution_count": 19,
     "metadata": {},
     "output_type": "execute_result"
    }
   ],
   "source": [
    "floater.max()"
   ]
  },
  {
   "cell_type": "code",
   "execution_count": 20,
   "id": "887044d8",
   "metadata": {},
   "outputs": [
    {
     "ename": "AttributeError",
     "evalue": "'str' object has no attribute 'dtype'",
     "output_type": "error",
     "traceback": [
      "\u001b[0;31m---------------------------------------------------------------------------\u001b[0m",
      "\u001b[0;31mAttributeError\u001b[0m                            Traceback (most recent call last)",
      "Cell \u001b[0;32mIn [20], line 2\u001b[0m\n\u001b[1;32m      1\u001b[0m \u001b[38;5;28;01mfor\u001b[39;00m column \u001b[38;5;129;01min\u001b[39;00m census_df\u001b[38;5;241m.\u001b[39mcolumns:\n\u001b[0;32m----> 2\u001b[0m     \u001b[38;5;28mprint\u001b[39m(\u001b[43mcolumn\u001b[49m\u001b[38;5;241;43m.\u001b[39;49m\u001b[43mdtype\u001b[49m)\n",
      "\u001b[0;31mAttributeError\u001b[0m: 'str' object has no attribute 'dtype'"
     ]
    }
   ],
   "source": [
    "for column in census_df.columns:\n",
    "    print(column.dtype)"
   ]
  },
  {
   "cell_type": "code",
   "execution_count": 21,
   "id": "d062d9f0",
   "metadata": {},
   "outputs": [
    {
     "data": {
      "text/plain": [
       "State       object\n",
       "Town        object\n",
       "7_2009       int64\n",
       "3          float64\n",
       "4          float64\n",
       "8.40188    float64\n",
       "dtype: object"
      ]
     },
     "execution_count": 21,
     "metadata": {},
     "output_type": "execute_result"
    }
   ],
   "source": [
    "types = census_df.dtypes\n",
    "types"
   ]
  },
  {
   "cell_type": "code",
   "execution_count": 22,
   "id": "3b10651d",
   "metadata": {},
   "outputs": [
    {
     "data": {
      "text/plain": [
       "'object'"
      ]
     },
     "execution_count": 22,
     "metadata": {},
     "output_type": "execute_result"
    }
   ],
   "source": [
    "str(types[0])"
   ]
  },
  {
   "cell_type": "code",
   "execution_count": 23,
   "id": "c315d261",
   "metadata": {},
   "outputs": [],
   "source": [
    "info = census_df.describe()"
   ]
  },
  {
   "cell_type": "code",
   "execution_count": 24,
   "id": "1b6d5421",
   "metadata": {},
   "outputs": [
    {
     "data": {
      "text/html": [
       "<div>\n",
       "<style scoped>\n",
       "    .dataframe tbody tr th:only-of-type {\n",
       "        vertical-align: middle;\n",
       "    }\n",
       "\n",
       "    .dataframe tbody tr th {\n",
       "        vertical-align: top;\n",
       "    }\n",
       "\n",
       "    .dataframe thead th {\n",
       "        text-align: right;\n",
       "    }\n",
       "</style>\n",
       "<table border=\"1\" class=\"dataframe\">\n",
       "  <thead>\n",
       "    <tr style=\"text-align: right;\">\n",
       "      <th></th>\n",
       "      <th>7_2009</th>\n",
       "      <th>3</th>\n",
       "      <th>4</th>\n",
       "      <th>8.40188</th>\n",
       "    </tr>\n",
       "  </thead>\n",
       "  <tbody>\n",
       "    <tr>\n",
       "      <th>count</th>\n",
       "      <td>1.950900e+04</td>\n",
       "      <td>19509.000000</td>\n",
       "      <td>19507.000000</td>\n",
       "      <td>19503.000000</td>\n",
       "    </tr>\n",
       "    <tr>\n",
       "      <th>mean</th>\n",
       "      <td>9.793011e+03</td>\n",
       "      <td>3.004910</td>\n",
       "      <td>9.549200</td>\n",
       "      <td>4.964280</td>\n",
       "    </tr>\n",
       "    <tr>\n",
       "      <th>std</th>\n",
       "      <td>8.202300e+04</td>\n",
       "      <td>0.352347</td>\n",
       "      <td>2.890984</td>\n",
       "      <td>2.886162</td>\n",
       "    </tr>\n",
       "    <tr>\n",
       "      <th>min</th>\n",
       "      <td>0.000000e+00</td>\n",
       "      <td>0.303240</td>\n",
       "      <td>0.650635</td>\n",
       "      <td>0.000469</td>\n",
       "    </tr>\n",
       "    <tr>\n",
       "      <th>25%</th>\n",
       "      <td>3.650000e+02</td>\n",
       "      <td>3.000000</td>\n",
       "      <td>7.000000</td>\n",
       "      <td>2.469750</td>\n",
       "    </tr>\n",
       "    <tr>\n",
       "      <th>50%</th>\n",
       "      <td>1.115000e+03</td>\n",
       "      <td>3.000000</td>\n",
       "      <td>9.000000</td>\n",
       "      <td>4.940950</td>\n",
       "    </tr>\n",
       "    <tr>\n",
       "      <th>75%</th>\n",
       "      <td>4.498000e+03</td>\n",
       "      <td>3.000000</td>\n",
       "      <td>11.000000</td>\n",
       "      <td>7.448870</td>\n",
       "    </tr>\n",
       "    <tr>\n",
       "      <th>max</th>\n",
       "      <td>8.391881e+06</td>\n",
       "      <td>35.000000</td>\n",
       "      <td>32.000000</td>\n",
       "      <td>9.999940</td>\n",
       "    </tr>\n",
       "  </tbody>\n",
       "</table>\n",
       "</div>"
      ],
      "text/plain": [
       "             7_2009             3             4       8.40188\n",
       "count  1.950900e+04  19509.000000  19507.000000  19503.000000\n",
       "mean   9.793011e+03      3.004910      9.549200      4.964280\n",
       "std    8.202300e+04      0.352347      2.890984      2.886162\n",
       "min    0.000000e+00      0.303240      0.650635      0.000469\n",
       "25%    3.650000e+02      3.000000      7.000000      2.469750\n",
       "50%    1.115000e+03      3.000000      9.000000      4.940950\n",
       "75%    4.498000e+03      3.000000     11.000000      7.448870\n",
       "max    8.391881e+06     35.000000     32.000000      9.999940"
      ]
     },
     "execution_count": 24,
     "metadata": {},
     "output_type": "execute_result"
    }
   ],
   "source": [
    "info"
   ]
  },
  {
   "cell_type": "code",
   "execution_count": 25,
   "id": "d36a53f9",
   "metadata": {},
   "outputs": [
    {
     "name": "stderr",
     "output_type": "stream",
     "text": [
      "/tmp/ipykernel_2600/2628795222.py:1: ParserWarning: Falling back to the 'python' engine because the 'c' engine does not support sep=None with delim_whitespace=False; you can avoid this warning by specifying engine='python'.\n",
      "  bad_df= pd.read_csv(datafile, sep=None)\n"
     ]
    }
   ],
   "source": [
    "bad_df= pd.read_csv(datafile, sep=None)"
   ]
  },
  {
   "cell_type": "code",
   "execution_count": 26,
   "id": "6071e637",
   "metadata": {},
   "outputs": [
    {
     "data": {
      "text/html": [
       "<div>\n",
       "<style scoped>\n",
       "    .dataframe tbody tr th:only-of-type {\n",
       "        vertical-align: middle;\n",
       "    }\n",
       "\n",
       "    .dataframe tbody tr th {\n",
       "        vertical-align: top;\n",
       "    }\n",
       "\n",
       "    .dataframe thead th {\n",
       "        text-align: right;\n",
       "    }\n",
       "</style>\n",
       "<table border=\"1\" class=\"dataframe\">\n",
       "  <thead>\n",
       "    <tr style=\"text-align: right;\">\n",
       "      <th></th>\n",
       "      <th>7_2009</th>\n",
       "      <th>3</th>\n",
       "      <th>4</th>\n",
       "      <th>8.40188</th>\n",
       "    </tr>\n",
       "  </thead>\n",
       "  <tbody>\n",
       "    <tr>\n",
       "      <th>count</th>\n",
       "      <td>1.950900e+04</td>\n",
       "      <td>19509.000000</td>\n",
       "      <td>19507.000000</td>\n",
       "      <td>19503.000000</td>\n",
       "    </tr>\n",
       "    <tr>\n",
       "      <th>mean</th>\n",
       "      <td>9.793011e+03</td>\n",
       "      <td>3.004910</td>\n",
       "      <td>9.549200</td>\n",
       "      <td>4.964280</td>\n",
       "    </tr>\n",
       "    <tr>\n",
       "      <th>std</th>\n",
       "      <td>8.202300e+04</td>\n",
       "      <td>0.352347</td>\n",
       "      <td>2.890984</td>\n",
       "      <td>2.886162</td>\n",
       "    </tr>\n",
       "    <tr>\n",
       "      <th>min</th>\n",
       "      <td>0.000000e+00</td>\n",
       "      <td>0.303240</td>\n",
       "      <td>0.650635</td>\n",
       "      <td>0.000469</td>\n",
       "    </tr>\n",
       "    <tr>\n",
       "      <th>25%</th>\n",
       "      <td>3.650000e+02</td>\n",
       "      <td>3.000000</td>\n",
       "      <td>7.000000</td>\n",
       "      <td>2.469750</td>\n",
       "    </tr>\n",
       "    <tr>\n",
       "      <th>50%</th>\n",
       "      <td>1.115000e+03</td>\n",
       "      <td>3.000000</td>\n",
       "      <td>9.000000</td>\n",
       "      <td>4.940950</td>\n",
       "    </tr>\n",
       "    <tr>\n",
       "      <th>75%</th>\n",
       "      <td>4.498000e+03</td>\n",
       "      <td>3.000000</td>\n",
       "      <td>11.000000</td>\n",
       "      <td>7.448870</td>\n",
       "    </tr>\n",
       "    <tr>\n",
       "      <th>max</th>\n",
       "      <td>8.391881e+06</td>\n",
       "      <td>35.000000</td>\n",
       "      <td>32.000000</td>\n",
       "      <td>9.999940</td>\n",
       "    </tr>\n",
       "  </tbody>\n",
       "</table>\n",
       "</div>"
      ],
      "text/plain": [
       "             7_2009             3             4       8.40188\n",
       "count  1.950900e+04  19509.000000  19507.000000  19503.000000\n",
       "mean   9.793011e+03      3.004910      9.549200      4.964280\n",
       "std    8.202300e+04      0.352347      2.890984      2.886162\n",
       "min    0.000000e+00      0.303240      0.650635      0.000469\n",
       "25%    3.650000e+02      3.000000      7.000000      2.469750\n",
       "50%    1.115000e+03      3.000000      9.000000      4.940950\n",
       "75%    4.498000e+03      3.000000     11.000000      7.448870\n",
       "max    8.391881e+06     35.000000     32.000000      9.999940"
      ]
     },
     "execution_count": 26,
     "metadata": {},
     "output_type": "execute_result"
    }
   ],
   "source": [
    "bad_info = bad_df.describe()\n",
    "bad_info"
   ]
  },
  {
   "cell_type": "code",
   "execution_count": 27,
   "id": "1ea6e33d",
   "metadata": {},
   "outputs": [],
   "source": [
    "stats = bad_info.columns.array"
   ]
  },
  {
   "cell_type": "code",
   "execution_count": 28,
   "id": "00c2450f",
   "metadata": {},
   "outputs": [],
   "source": [
    "numbercols = [bad_df[x] for x in stats]"
   ]
  },
  {
   "cell_type": "code",
   "execution_count": 29,
   "id": "fe22369c",
   "metadata": {},
   "outputs": [
    {
     "data": {
      "text/plain": [
       "pandas.core.series.Series"
      ]
     },
     "execution_count": 29,
     "metadata": {},
     "output_type": "execute_result"
    }
   ],
   "source": [
    "type(numbercols[0])"
   ]
  },
  {
   "cell_type": "code",
   "execution_count": 30,
   "id": "b83a9f7e",
   "metadata": {},
   "outputs": [],
   "source": [
    "id = 8\n",
    "cursor=get_db()\n",
    "cursor.execute('SELECT * FROM df_datafiles WHERE id=%s', (id,))"
   ]
  },
  {
   "cell_type": "code",
   "execution_count": 31,
   "id": "affc7aa6",
   "metadata": {},
   "outputs": [],
   "source": [
    "file = cursor.fetchone()"
   ]
  },
  {
   "cell_type": "code",
   "execution_count": 32,
   "id": "836a1d8f",
   "metadata": {},
   "outputs": [],
   "source": [
    "file"
   ]
  },
  {
   "cell_type": "code",
   "execution_count": 33,
   "id": "6b14b720",
   "metadata": {},
   "outputs": [
    {
     "data": {
      "text/plain": [
       "Index(['count', 'mean', 'std', 'min', '25%', '50%', '75%', 'max'], dtype='object')"
      ]
     },
     "execution_count": 33,
     "metadata": {},
     "output_type": "execute_result"
    }
   ],
   "source": [
    "bad_info.index"
   ]
  },
  {
   "cell_type": "code",
   "execution_count": 34,
   "id": "9f0e481b",
   "metadata": {},
   "outputs": [
    {
     "name": "stdout",
     "output_type": "stream",
     "text": [
      "count\n",
      "mean\n",
      "std\n",
      "min\n",
      "25%\n",
      "50%\n",
      "75%\n",
      "max\n"
     ]
    }
   ],
   "source": [
    "for column in bad_info.index:\n",
    "    print(column)"
   ]
  },
  {
   "cell_type": "code",
   "execution_count": 35,
   "id": "210c1ce9",
   "metadata": {},
   "outputs": [
    {
     "data": {
      "text/plain": [
       "count    1.950900e+04\n",
       "mean     9.793011e+03\n",
       "std      8.202300e+04\n",
       "min      0.000000e+00\n",
       "25%      3.650000e+02\n",
       "50%      1.115000e+03\n",
       "75%      4.498000e+03\n",
       "max      8.391881e+06\n",
       "Name: 7_2009, dtype: float64"
      ]
     },
     "execution_count": 35,
     "metadata": {},
     "output_type": "execute_result"
    }
   ],
   "source": [
    "bad_info['7_2009']"
   ]
  },
  {
   "cell_type": "code",
   "execution_count": 36,
   "id": "24db952e",
   "metadata": {},
   "outputs": [
    {
     "name": "stdout",
     "output_type": "stream",
     "text": [
      "0         2930\n",
      "1         4782\n",
      "2          709\n",
      "3          433\n",
      "4        29861\n",
      "         ...  \n",
      "19504      310\n",
      "19505     3236\n",
      "19506     5054\n",
      "19507     1550\n",
      "19508      164\n",
      "Name: 7_2009, Length: 19509, dtype: int64\n",
      "0        3.0\n",
      "1        3.0\n",
      "2        3.0\n",
      "3        3.0\n",
      "4        3.0\n",
      "        ... \n",
      "19504    3.0\n",
      "19505    3.0\n",
      "19506    3.0\n",
      "19507    3.0\n",
      "19508    3.0\n",
      "Name: 3, Length: 19509, dtype: float64\n",
      "0        10.0\n",
      "1        11.0\n",
      "2         8.0\n",
      "3         6.0\n",
      "4        10.0\n",
      "         ... \n",
      "19504    10.0\n",
      "19505    10.0\n",
      "19506     8.0\n",
      "19507     7.0\n",
      "19508     6.0\n",
      "Name: 4, Length: 19509, dtype: float64\n",
      "0        3.94383\n",
      "1        7.83099\n",
      "2        7.98440\n",
      "3        9.11647\n",
      "4        1.97551\n",
      "          ...   \n",
      "19504    1.75974\n",
      "19505    1.35188\n",
      "19506    1.03296\n",
      "19507    9.55124\n",
      "19508    8.66964\n",
      "Name: 8.40188, Length: 19509, dtype: float64\n"
     ]
    }
   ],
   "source": [
    "for column in numbercols:\n",
    "    print(column)"
   ]
  },
  {
   "cell_type": "code",
   "execution_count": 37,
   "id": "554c8aeb",
   "metadata": {},
   "outputs": [
    {
     "data": {
      "text/plain": [
       "<function list.index(value, start=0, stop=9223372036854775807, /)>"
      ]
     },
     "execution_count": 37,
     "metadata": {},
     "output_type": "execute_result"
    }
   ],
   "source": [
    "numbercols.index"
   ]
  },
  {
   "cell_type": "code",
   "execution_count": 38,
   "id": "15223456",
   "metadata": {},
   "outputs": [
    {
     "data": {
      "text/plain": [
       "Index(['State', 'Town', '7_2009', '3', '4', '8.40188'], dtype='object')"
      ]
     },
     "execution_count": 38,
     "metadata": {},
     "output_type": "execute_result"
    }
   ],
   "source": [
    "bad_df.columns"
   ]
  },
  {
   "cell_type": "code",
   "execution_count": 39,
   "id": "bbcebe9d",
   "metadata": {},
   "outputs": [
    {
     "data": {
      "text/plain": [
       "Index(['7_2009', '3', '4', '8.40188'], dtype='object')"
      ]
     },
     "execution_count": 39,
     "metadata": {},
     "output_type": "execute_result"
    }
   ],
   "source": [
    "cols = bad_info.columns\n",
    "cols"
   ]
  },
  {
   "cell_type": "code",
   "execution_count": 40,
   "id": "c42e8a1b",
   "metadata": {},
   "outputs": [
    {
     "name": "stdout",
     "output_type": "stream",
     "text": [
      "7_2009\n",
      "3\n",
      "4\n",
      "8.40188\n"
     ]
    }
   ],
   "source": [
    "for col in cols:\n",
    "    print(col)"
   ]
  },
  {
   "cell_type": "code",
   "execution_count": 41,
   "id": "bff1c7bb",
   "metadata": {},
   "outputs": [
    {
     "data": {
      "text/html": [
       "<div>\n",
       "<style scoped>\n",
       "    .dataframe tbody tr th:only-of-type {\n",
       "        vertical-align: middle;\n",
       "    }\n",
       "\n",
       "    .dataframe tbody tr th {\n",
       "        vertical-align: top;\n",
       "    }\n",
       "\n",
       "    .dataframe thead th {\n",
       "        text-align: right;\n",
       "    }\n",
       "</style>\n",
       "<table border=\"1\" class=\"dataframe\">\n",
       "  <thead>\n",
       "    <tr style=\"text-align: right;\">\n",
       "      <th></th>\n",
       "      <th>7_2009</th>\n",
       "      <th>3</th>\n",
       "      <th>4</th>\n",
       "      <th>8.40188</th>\n",
       "    </tr>\n",
       "  </thead>\n",
       "  <tbody>\n",
       "    <tr>\n",
       "      <th>count</th>\n",
       "      <td>1.950900e+04</td>\n",
       "      <td>19509.000000</td>\n",
       "      <td>19507.000000</td>\n",
       "      <td>19503.000000</td>\n",
       "    </tr>\n",
       "    <tr>\n",
       "      <th>mean</th>\n",
       "      <td>9.793011e+03</td>\n",
       "      <td>3.004910</td>\n",
       "      <td>9.549200</td>\n",
       "      <td>4.964280</td>\n",
       "    </tr>\n",
       "    <tr>\n",
       "      <th>std</th>\n",
       "      <td>8.202300e+04</td>\n",
       "      <td>0.352347</td>\n",
       "      <td>2.890984</td>\n",
       "      <td>2.886162</td>\n",
       "    </tr>\n",
       "    <tr>\n",
       "      <th>min</th>\n",
       "      <td>0.000000e+00</td>\n",
       "      <td>0.303240</td>\n",
       "      <td>0.650635</td>\n",
       "      <td>0.000469</td>\n",
       "    </tr>\n",
       "    <tr>\n",
       "      <th>25%</th>\n",
       "      <td>3.650000e+02</td>\n",
       "      <td>3.000000</td>\n",
       "      <td>7.000000</td>\n",
       "      <td>2.469750</td>\n",
       "    </tr>\n",
       "    <tr>\n",
       "      <th>50%</th>\n",
       "      <td>1.115000e+03</td>\n",
       "      <td>3.000000</td>\n",
       "      <td>9.000000</td>\n",
       "      <td>4.940950</td>\n",
       "    </tr>\n",
       "    <tr>\n",
       "      <th>75%</th>\n",
       "      <td>4.498000e+03</td>\n",
       "      <td>3.000000</td>\n",
       "      <td>11.000000</td>\n",
       "      <td>7.448870</td>\n",
       "    </tr>\n",
       "    <tr>\n",
       "      <th>max</th>\n",
       "      <td>8.391881e+06</td>\n",
       "      <td>35.000000</td>\n",
       "      <td>32.000000</td>\n",
       "      <td>9.999940</td>\n",
       "    </tr>\n",
       "  </tbody>\n",
       "</table>\n",
       "</div>"
      ],
      "text/plain": [
       "             7_2009             3             4       8.40188\n",
       "count  1.950900e+04  19509.000000  19507.000000  19503.000000\n",
       "mean   9.793011e+03      3.004910      9.549200      4.964280\n",
       "std    8.202300e+04      0.352347      2.890984      2.886162\n",
       "min    0.000000e+00      0.303240      0.650635      0.000469\n",
       "25%    3.650000e+02      3.000000      7.000000      2.469750\n",
       "50%    1.115000e+03      3.000000      9.000000      4.940950\n",
       "75%    4.498000e+03      3.000000     11.000000      7.448870\n",
       "max    8.391881e+06     35.000000     32.000000      9.999940"
      ]
     },
     "execution_count": 41,
     "metadata": {},
     "output_type": "execute_result"
    }
   ],
   "source": [
    "bad_info"
   ]
  },
  {
   "cell_type": "code",
   "execution_count": 42,
   "id": "5f470867",
   "metadata": {},
   "outputs": [
    {
     "ename": "AttributeError",
     "evalue": "'DataFrame' object has no attribute 'get_loc'",
     "output_type": "error",
     "traceback": [
      "\u001b[0;31m---------------------------------------------------------------------------\u001b[0m",
      "\u001b[0;31mAttributeError\u001b[0m                            Traceback (most recent call last)",
      "Cell \u001b[0;32mIn [42], line 1\u001b[0m\n\u001b[0;32m----> 1\u001b[0m bad_df[\u001b[43mbad_df\u001b[49m\u001b[38;5;241;43m.\u001b[39;49m\u001b[43mget_loc\u001b[49m[\u001b[38;5;241m0\u001b[39m]]\n",
      "File \u001b[0;32m~/.local/share/virtualenvs/D-fraudr-S27xZYeV/lib/python3.8/site-packages/pandas/core/generic.py:5902\u001b[0m, in \u001b[0;36mNDFrame.__getattr__\u001b[0;34m(self, name)\u001b[0m\n\u001b[1;32m   5895\u001b[0m \u001b[38;5;28;01mif\u001b[39;00m (\n\u001b[1;32m   5896\u001b[0m     name \u001b[38;5;129;01mnot\u001b[39;00m \u001b[38;5;129;01min\u001b[39;00m \u001b[38;5;28mself\u001b[39m\u001b[38;5;241m.\u001b[39m_internal_names_set\n\u001b[1;32m   5897\u001b[0m     \u001b[38;5;129;01mand\u001b[39;00m name \u001b[38;5;129;01mnot\u001b[39;00m \u001b[38;5;129;01min\u001b[39;00m \u001b[38;5;28mself\u001b[39m\u001b[38;5;241m.\u001b[39m_metadata\n\u001b[1;32m   5898\u001b[0m     \u001b[38;5;129;01mand\u001b[39;00m name \u001b[38;5;129;01mnot\u001b[39;00m \u001b[38;5;129;01min\u001b[39;00m \u001b[38;5;28mself\u001b[39m\u001b[38;5;241m.\u001b[39m_accessors\n\u001b[1;32m   5899\u001b[0m     \u001b[38;5;129;01mand\u001b[39;00m \u001b[38;5;28mself\u001b[39m\u001b[38;5;241m.\u001b[39m_info_axis\u001b[38;5;241m.\u001b[39m_can_hold_identifiers_and_holds_name(name)\n\u001b[1;32m   5900\u001b[0m ):\n\u001b[1;32m   5901\u001b[0m     \u001b[38;5;28;01mreturn\u001b[39;00m \u001b[38;5;28mself\u001b[39m[name]\n\u001b[0;32m-> 5902\u001b[0m \u001b[38;5;28;01mreturn\u001b[39;00m \u001b[38;5;28;43mobject\u001b[39;49m\u001b[38;5;241;43m.\u001b[39;49m\u001b[38;5;21;43m__getattribute__\u001b[39;49m\u001b[43m(\u001b[49m\u001b[38;5;28;43mself\u001b[39;49m\u001b[43m,\u001b[49m\u001b[43m \u001b[49m\u001b[43mname\u001b[49m\u001b[43m)\u001b[49m\n",
      "\u001b[0;31mAttributeError\u001b[0m: 'DataFrame' object has no attribute 'get_loc'"
     ]
    }
   ],
   "source": [
    "bad_df[bad_df.get_loc[0]]"
   ]
  },
  {
   "cell_type": "code",
   "execution_count": 43,
   "id": "bb966138",
   "metadata": {},
   "outputs": [
    {
     "data": {
      "text/plain": [
       "0         2930\n",
       "1         4782\n",
       "2          709\n",
       "3          433\n",
       "4        29861\n",
       "         ...  \n",
       "19504      310\n",
       "19505     3236\n",
       "19506     5054\n",
       "19507     1550\n",
       "19508      164\n",
       "Name: 7_2009, Length: 19507, dtype: int64"
      ]
     },
     "execution_count": 43,
     "metadata": {},
     "output_type": "execute_result"
    }
   ],
   "source": [
    "col = bad_df['7_2009'][bad_df['7_2009'] != 0]\n",
    "col"
   ]
  },
  {
   "cell_type": "code",
   "execution_count": 44,
   "id": "d56a368d",
   "metadata": {},
   "outputs": [
    {
     "data": {
      "text/plain": [
       "19507"
      ]
     },
     "execution_count": 44,
     "metadata": {},
     "output_type": "execute_result"
    }
   ],
   "source": [
    "len(col)"
   ]
  },
  {
   "cell_type": "code",
   "execution_count": 46,
   "id": "f2a36928",
   "metadata": {},
   "outputs": [
    {
     "data": {
      "text/plain": [
       "{1: 5735,\n",
       " 2: 3544,\n",
       " 3: 2341,\n",
       " 4: 1847,\n",
       " 5: 1559,\n",
       " 6: 1370,\n",
       " 7: 1166,\n",
       " 8: 1042,\n",
       " 9: 903}"
      ]
     },
     "execution_count": 46,
     "metadata": {},
     "output_type": "execute_result"
    }
   ],
   "source": [
    "import benford\n",
    "freqs = benford.get_freqs(col)\n",
    "freqs"
   ]
  },
  {
   "cell_type": "code",
   "execution_count": null,
   "id": "de360d40",
   "metadata": {},
   "outputs": [],
   "source": []
  },
  {
   "cell_type": "code",
   "execution_count": 49,
   "id": "00f9457e",
   "metadata": {},
   "outputs": [
    {
     "name": "stdout",
     "output_type": "stream",
     "text": [
      "1\n",
      "2\n",
      "3\n",
      "4\n",
      "5\n",
      "6\n",
      "7\n",
      "8\n",
      "9\n"
     ]
    }
   ],
   "source": [
    "for x in freqs.keys():\n",
    "    print(x)"
   ]
  },
  {
   "cell_type": "code",
   "execution_count": 52,
   "id": "2bf85de3",
   "metadata": {},
   "outputs": [
    {
     "data": {
      "text/plain": [
       "[5735, 3544, 2341, 1847, 1559, 1370, 1166, 1042, 903]"
      ]
     },
     "execution_count": 52,
     "metadata": {},
     "output_type": "execute_result"
    }
   ],
   "source": [
    "actual = [freqs[x] for x in freqs.keys()]\n",
    "actual"
   ]
  },
  {
   "cell_type": "code",
   "execution_count": 53,
   "id": "f8b54975",
   "metadata": {},
   "outputs": [
    {
     "ename": "NameError",
     "evalue": "name 'expected' is not defined",
     "output_type": "error",
     "traceback": [
      "\u001b[0;31m---------------------------------------------------------------------------\u001b[0m",
      "\u001b[0;31mNameError\u001b[0m                                 Traceback (most recent call last)",
      "Cell \u001b[0;32mIn [53], line 1\u001b[0m\n\u001b[0;32m----> 1\u001b[0m \u001b[43mexpected\u001b[49m\n",
      "\u001b[0;31mNameError\u001b[0m: name 'expected' is not defined"
     ]
    }
   ],
   "source": [
    "expected"
   ]
  },
  {
   "cell_type": "code",
   "execution_count": 55,
   "id": "6efd0c4e",
   "metadata": {},
   "outputs": [
    {
     "data": {
      "text/plain": [
       "dict_values"
      ]
     },
     "execution_count": 55,
     "metadata": {},
     "output_type": "execute_result"
    }
   ],
   "source": [
    "type(freqs.values())"
   ]
  },
  {
   "cell_type": "code",
   "execution_count": 58,
   "id": "79c2bac0",
   "metadata": {},
   "outputs": [
    {
     "ename": "NameError",
     "evalue": "name 'sort' is not defined",
     "output_type": "error",
     "traceback": [
      "\u001b[0;31m---------------------------------------------------------------------------\u001b[0m",
      "\u001b[0;31mNameError\u001b[0m                                 Traceback (most recent call last)",
      "Cell \u001b[0;32mIn [58], line 1\u001b[0m\n\u001b[0;32m----> 1\u001b[0m \u001b[43msort\u001b[49m(freqs\u001b[38;5;241m.\u001b[39mkeys())\n",
      "\u001b[0;31mNameError\u001b[0m: name 'sort' is not defined"
     ]
    }
   ],
   "source": [
    "sort(freqs.keys())"
   ]
  },
  {
   "cell_type": "code",
   "execution_count": null,
   "id": "1c232ac7",
   "metadata": {},
   "outputs": [],
   "source": []
  }
 ],
 "metadata": {
  "kernelspec": {
   "display_name": "Python 3 (ipykernel)",
   "language": "python",
   "name": "python3"
  },
  "language_info": {
   "codemirror_mode": {
    "name": "ipython",
    "version": 3
   },
   "file_extension": ".py",
   "mimetype": "text/x-python",
   "name": "python",
   "nbconvert_exporter": "python",
   "pygments_lexer": "ipython3",
   "version": "3.8.10"
  }
 },
 "nbformat": 4,
 "nbformat_minor": 5
}
